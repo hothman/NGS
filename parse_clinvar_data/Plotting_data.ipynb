{
 "cells": [
  {
   "cell_type": "markdown",
   "metadata": {},
   "source": [
    "# graphing"
   ]
  },
  {
   "cell_type": "code",
   "execution_count": 12,
   "metadata": {},
   "outputs": [],
   "source": [
    "import pandas as pd \n",
    "import matplotlib.pylab as plt\n",
    "#from pywaffle import Waffle\n",
    "import numpy as np\n",
    "\n",
    "submitters = pd.read_csv(\"Clinvar_submitters.csv\", skiprows=1,  names=[\"Submitter\", \"Maximum_review_status\",\n",
    "                                                          \"Total_submissions\", \"Submissions_with_interpretations\", \n",
    "                                                         \"Total_Genes\", \"Last_updated\", \"submitters_id\", \"country_name\",  \"alpha_3\", \"continent\"])"
   ]
  },
  {
   "cell_type": "markdown",
   "metadata": {},
   "source": [
    "## Waffle plot \n",
    "### Prepare data"
   ]
  },
  {
   "cell_type": "code",
   "execution_count": 8,
   "metadata": {},
   "outputs": [
    {
     "data": {
      "text/html": [
       "<div>\n",
       "<style scoped>\n",
       "    .dataframe tbody tr th:only-of-type {\n",
       "        vertical-align: middle;\n",
       "    }\n",
       "\n",
       "    .dataframe tbody tr th {\n",
       "        vertical-align: top;\n",
       "    }\n",
       "\n",
       "    .dataframe thead th {\n",
       "        text-align: right;\n",
       "    }\n",
       "</style>\n",
       "<table border=\"1\" class=\"dataframe\">\n",
       "  <thead>\n",
       "    <tr style=\"text-align: right;\">\n",
       "      <th></th>\n",
       "      <th>sum</th>\n",
       "    </tr>\n",
       "    <tr>\n",
       "      <th>continent</th>\n",
       "      <th></th>\n",
       "    </tr>\n",
       "  </thead>\n",
       "  <tbody>\n",
       "    <tr>\n",
       "      <th>Africa</th>\n",
       "      <td>1152</td>\n",
       "    </tr>\n",
       "    <tr>\n",
       "      <th>Asia</th>\n",
       "      <td>13910</td>\n",
       "    </tr>\n",
       "    <tr>\n",
       "      <th>Europe</th>\n",
       "      <td>81531</td>\n",
       "    </tr>\n",
       "    <tr>\n",
       "      <th>North America</th>\n",
       "      <td>1178777</td>\n",
       "    </tr>\n",
       "    <tr>\n",
       "      <th>Oceania</th>\n",
       "      <td>10268</td>\n",
       "    </tr>\n",
       "    <tr>\n",
       "      <th>South America</th>\n",
       "      <td>21996</td>\n",
       "    </tr>\n",
       "  </tbody>\n",
       "</table>\n",
       "</div>"
      ],
      "text/plain": [
       "                   sum\n",
       "continent             \n",
       "Africa            1152\n",
       "Asia             13910\n",
       "Europe           81531\n",
       "North America  1178777\n",
       "Oceania          10268\n",
       "South America    21996"
      ]
     },
     "execution_count": 8,
     "metadata": {},
     "output_type": "execute_result"
    }
   ],
   "source": [
    "np_snp_per_continent = submitters.groupby('continent').Total_submissions.agg(['sum']) \n",
    "np_snp_per_continent"
   ]
  },
  {
   "cell_type": "code",
   "execution_count": 21,
   "metadata": {},
   "outputs": [
    {
     "data": {
      "image/png": "[encoded data removed]",
      "text/plain": [
       "<Waffle size 720x504 with 1 Axes>"
      ]
     },
     "metadata": {
      "needs_background": "light"
     },
     "output_type": "display_data"
    }
   ],
   "source": [
    "for_waffle_continent = {}\n",
    "for index, nb_snp in zip(np_snp_per_continent.index, np_snp_per_continent[\"sum\"]): \n",
    "    for_waffle_continent[index] =  (nb_snp/np.sum( np_snp_per_continent[\"sum\"])) *1000\n",
    "for_waffle_continent = {k: v for k, v in sorted(for_waffle_continent.items(), key=lambda item: item[1])}\n",
    "\n",
    "labels=[]\n",
    "for item in for_waffle_continent: \n",
    "    share = np.round(for_waffle_continent[item]/10, 2)\n",
    "    labels.append(\"{0}: {1}%\".format(item, share) )\n",
    "\n",
    "plt.rcParams[\"figure.figsize\"] = (10,7)\n",
    "fig = plt.figure(\n",
    "    FigureClass=Waffle,  \n",
    "    rows=24, \n",
    "    colors=(\"red\", \"#b9a2ae\", '#efc7c2',  '#e5d48b', '#b2d2c7', \"#ADD7EC\"),\n",
    "    values=for_waffle_continent, \n",
    "     title={\n",
    "        'label': 'Share of the African submitters in ClinVar database',\n",
    "        'loc': 'left',\n",
    "        'fontdict': {'fontsize': 15} },\n",
    "    labels=labels,\n",
    "    \n",
    "    legend={\n",
    "        # 'labels': [f\"{k} ({v}%)\" for k, v in data.items()],  # lebels could also be under legend instead\n",
    "        'loc': 'lower left',\n",
    "        'bbox_to_anchor': (0, -0.15),\n",
    "        'ncol': 3,\n",
    "        'framealpha': 0,\n",
    "        'fontsize': 12\n",
    "    } \n",
    ")\n",
    "plt.savefig(\"WP_continents.png\", dpi=400)"
   ]
  },
  {
   "cell_type": "code",
   "execution_count": 13,
   "metadata": {},
   "outputs": [
    {
     "data": {
      "text/html": [
       "<div>\n",
       "<style scoped>\n",
       "    .dataframe tbody tr th:only-of-type {\n",
       "        vertical-align: middle;\n",
       "    }\n",
       "\n",
       "    .dataframe tbody tr th {\n",
       "        vertical-align: top;\n",
       "    }\n",
       "\n",
       "    .dataframe thead th {\n",
       "        text-align: right;\n",
       "    }\n",
       "</style>\n",
       "<table border=\"1\" class=\"dataframe\">\n",
       "  <thead>\n",
       "    <tr style=\"text-align: right;\">\n",
       "      <th></th>\n",
       "      <th>sum</th>\n",
       "    </tr>\n",
       "    <tr>\n",
       "      <th>country_name</th>\n",
       "      <th></th>\n",
       "    </tr>\n",
       "  </thead>\n",
       "  <tbody>\n",
       "    <tr>\n",
       "      <td>Egypt</td>\n",
       "      <td>128</td>\n",
       "    </tr>\n",
       "    <tr>\n",
       "      <td>Morocco</td>\n",
       "      <td>993</td>\n",
       "    </tr>\n",
       "    <tr>\n",
       "      <td>Senegal</td>\n",
       "      <td>1</td>\n",
       "    </tr>\n",
       "    <tr>\n",
       "      <td>South Africa</td>\n",
       "      <td>10</td>\n",
       "    </tr>\n",
       "    <tr>\n",
       "      <td>Sudan</td>\n",
       "      <td>4</td>\n",
       "    </tr>\n",
       "    <tr>\n",
       "      <td>Tunisia</td>\n",
       "      <td>16</td>\n",
       "    </tr>\n",
       "  </tbody>\n",
       "</table>\n",
       "</div>"
      ],
      "text/plain": [
       "              sum\n",
       "country_name     \n",
       "Egypt         128\n",
       "Morocco       993\n",
       "Senegal         1\n",
       "South Africa   10\n",
       "Sudan           4\n",
       "Tunisia        16"
      ]
     },
     "execution_count": 13,
     "metadata": {},
     "output_type": "execute_result"
    }
   ],
   "source": [
    "#np_snp_per_continent = submitters.groupby('continent').Total_submissions.agg(['sum']) \n",
    "Africa_snp = submitters[submitters.continent == \"Africa\"]\n",
    "np_snp_per_country = Africa_snp.groupby('country_name').Total_submissions.agg(['sum']) \n",
    "np_snp_per_country"
   ]
  },
  {
   "cell_type": "code",
   "execution_count": 24,
   "metadata": {},
   "outputs": [
    {
     "data": {
      "text/html": [
       "<div>\n",
       "<style scoped>\n",
       "    .dataframe tbody tr th:only-of-type {\n",
       "        vertical-align: middle;\n",
       "    }\n",
       "\n",
       "    .dataframe tbody tr th {\n",
       "        vertical-align: top;\n",
       "    }\n",
       "\n",
       "    .dataframe thead th {\n",
       "        text-align: right;\n",
       "    }\n",
       "</style>\n",
       "<table border=\"1\" class=\"dataframe\">\n",
       "  <thead>\n",
       "    <tr style=\"text-align: right;\">\n",
       "      <th></th>\n",
       "      <th>sum</th>\n",
       "    </tr>\n",
       "    <tr>\n",
       "      <th>country_name</th>\n",
       "      <th></th>\n",
       "    </tr>\n",
       "  </thead>\n",
       "  <tbody>\n",
       "    <tr>\n",
       "      <th>Egypt</th>\n",
       "      <td>31.0</td>\n",
       "    </tr>\n",
       "    <tr>\n",
       "      <th>Morocco</th>\n",
       "      <td>28.0</td>\n",
       "    </tr>\n",
       "    <tr>\n",
       "      <th>Senegal</th>\n",
       "      <td>1.0</td>\n",
       "    </tr>\n",
       "    <tr>\n",
       "      <th>South Africa</th>\n",
       "      <td>8.0</td>\n",
       "    </tr>\n",
       "    <tr>\n",
       "      <th>Sudan</th>\n",
       "      <td>5.0</td>\n",
       "    </tr>\n",
       "    <tr>\n",
       "      <th>Tunisia</th>\n",
       "      <td>13.0</td>\n",
       "    </tr>\n",
       "  </tbody>\n",
       "</table>\n",
       "</div>"
      ],
      "text/plain": [
       "               sum\n",
       "country_name      \n",
       "Egypt         31.0\n",
       "Morocco       28.0\n",
       "Senegal        1.0\n",
       "South Africa   8.0\n",
       "Sudan          5.0\n",
       "Tunisia       13.0"
      ]
     },
     "execution_count": 24,
     "metadata": {},
     "output_type": "execute_result"
    }
   ],
   "source": [
    "np_genes_per_country = Africa_snp.groupby('country_name').Total_Genes.agg(['sum']) \n",
    "np_genes_per_country"
   ]
  },
  {
   "cell_type": "code",
   "execution_count": 44,
   "metadata": {},
   "outputs": [
    {
     "data": {
      "text/plain": [
       "1307634"
      ]
     },
     "execution_count": 44,
     "metadata": {},
     "output_type": "execute_result"
    }
   ],
   "source": [
    "submitters.Total_submissions.sum()"
   ]
  },
  {
   "cell_type": "code",
   "execution_count": 52,
   "metadata": {},
   "outputs": [
    {
     "data": {
      "text/plain": [
       "country_name\n",
       "Egypt           8\n",
       "Morocco         7\n",
       "Senegal         1\n",
       "South Africa    5\n",
       "Sudan           1\n",
       "Tunisia         4\n",
       "Name: alpha_3, dtype: int64"
      ]
     },
     "execution_count": 52,
     "metadata": {},
     "output_type": "execute_result"
    }
   ],
   "source": [
    "Africa_snp.groupby('country_name').alpha_3.agg('count')"
   ]
  },
  {
   "cell_type": "code",
   "execution_count": 25,
   "metadata": {},
   "outputs": [
    {
     "data": {
      "text/plain": [
       "1152"
      ]
     },
     "execution_count": 25,
     "metadata": {},
     "output_type": "execute_result"
    }
   ],
   "source": [
    "Africa_snp.Total_submissions.sum()"
   ]
  },
  {
   "cell_type": "code",
   "execution_count": 29,
   "metadata": {},
   "outputs": [
    {
     "data": {
      "text/plain": [
       "10268"
      ]
     },
     "execution_count": 29,
     "metadata": {},
     "output_type": "execute_result"
    }
   ],
   "source": [
    "Oceania_snp = submitters[submitters.continent == \"Oceania\"]\n",
    "Oceania_snp.Total_submissions.sum()"
   ]
  },
  {
   "cell_type": "markdown",
   "metadata": {},
   "source": [
    "# Diseases and phenotypes"
   ]
  },
  {
   "cell_type": "code",
   "execution_count": 35,
   "metadata": {},
   "outputs": [
    {
     "data": {
      "text/html": [
       "<div>\n",
       "<style scoped>\n",
       "    .dataframe tbody tr th:only-of-type {\n",
       "        vertical-align: middle;\n",
       "    }\n",
       "\n",
       "    .dataframe tbody tr th {\n",
       "        vertical-align: top;\n",
       "    }\n",
       "\n",
       "    .dataframe thead th {\n",
       "        text-align: right;\n",
       "    }\n",
       "</style>\n",
       "<table border=\"1\" class=\"dataframe\">\n",
       "  <thead>\n",
       "    <tr style=\"text-align: right;\">\n",
       "      <th></th>\n",
       "      <th>Gene</th>\n",
       "      <th>Submissions</th>\n",
       "      <th>Last Updated</th>\n",
       "      <th>submitters_id</th>\n",
       "    </tr>\n",
       "  </thead>\n",
       "  <tbody>\n",
       "    <tr>\n",
       "      <th>0</th>\n",
       "      <td>HOXB13</td>\n",
       "      <td>762</td>\n",
       "      <td>Sep 10, 2019</td>\n",
       "      <td>507187</td>\n",
       "    </tr>\n",
       "    <tr>\n",
       "      <th>1</th>\n",
       "      <td>SPOP</td>\n",
       "      <td>160</td>\n",
       "      <td>Oct 7, 2019</td>\n",
       "      <td>507187</td>\n",
       "    </tr>\n",
       "    <tr>\n",
       "      <th>2</th>\n",
       "      <td>ARSA</td>\n",
       "      <td>10</td>\n",
       "      <td>Nov 18, 2019</td>\n",
       "      <td>505907</td>\n",
       "    </tr>\n",
       "    <tr>\n",
       "      <th>3</th>\n",
       "      <td>ARSB</td>\n",
       "      <td>8</td>\n",
       "      <td>Oct 25, 2017</td>\n",
       "      <td>505907</td>\n",
       "    </tr>\n",
       "    <tr>\n",
       "      <th>4</th>\n",
       "      <td>FKBP10</td>\n",
       "      <td>13</td>\n",
       "      <td>Apr 2, 2019</td>\n",
       "      <td>505907</td>\n",
       "    </tr>\n",
       "    <tr>\n",
       "      <th>...</th>\n",
       "      <td>...</td>\n",
       "      <td>...</td>\n",
       "      <td>...</td>\n",
       "      <td>...</td>\n",
       "    </tr>\n",
       "    <tr>\n",
       "      <th>79</th>\n",
       "      <td>WAS</td>\n",
       "      <td>1</td>\n",
       "      <td>May 4, 2020</td>\n",
       "      <td>507559</td>\n",
       "    </tr>\n",
       "    <tr>\n",
       "      <th>80</th>\n",
       "      <td>MPV17</td>\n",
       "      <td>1</td>\n",
       "      <td>Jun 17, 2016</td>\n",
       "      <td>505808</td>\n",
       "    </tr>\n",
       "    <tr>\n",
       "      <th>81</th>\n",
       "      <td>CYP11B1</td>\n",
       "      <td>1</td>\n",
       "      <td>Apr 28, 2020</td>\n",
       "      <td>507451</td>\n",
       "    </tr>\n",
       "    <tr>\n",
       "      <th>82</th>\n",
       "      <td>LOC106799833</td>\n",
       "      <td>1</td>\n",
       "      <td>Apr 28, 2020</td>\n",
       "      <td>507451</td>\n",
       "    </tr>\n",
       "    <tr>\n",
       "      <th>83</th>\n",
       "      <td>BRCA2</td>\n",
       "      <td>1</td>\n",
       "      <td>Dec 23, 2019</td>\n",
       "      <td>507359</td>\n",
       "    </tr>\n",
       "  </tbody>\n",
       "</table>\n",
       "<p>84 rows × 4 columns</p>\n",
       "</div>"
      ],
      "text/plain": [
       "            Gene  Submissions  Last Updated  submitters_id\n",
       "0         HOXB13          762  Sep 10, 2019         507187\n",
       "1           SPOP          160   Oct 7, 2019         507187\n",
       "2           ARSA           10  Nov 18, 2019         505907\n",
       "3           ARSB            8  Oct 25, 2017         505907\n",
       "4         FKBP10           13   Apr 2, 2019         505907\n",
       "..           ...          ...           ...            ...\n",
       "79           WAS            1   May 4, 2020         507559\n",
       "80         MPV17            1  Jun 17, 2016         505808\n",
       "81       CYP11B1            1  Apr 28, 2020         507451\n",
       "82  LOC106799833            1  Apr 28, 2020         507451\n",
       "83         BRCA2            1  Dec 23, 2019         507359\n",
       "\n",
       "[84 rows x 4 columns]"
      ]
     },
     "execution_count": 35,
     "metadata": {},
     "output_type": "execute_result"
    }
   ],
   "source": [
    "genes = pd.read_csv(\"clinVar_genes_byAfricans.csv\")\n",
    "genes"
   ]
  },
  {
   "cell_type": "code",
   "execution_count": 39,
   "metadata": {},
   "outputs": [
    {
     "data": {
      "text/html": [
       "<div>\n",
       "<style scoped>\n",
       "    .dataframe tbody tr th:only-of-type {\n",
       "        vertical-align: middle;\n",
       "    }\n",
       "\n",
       "    .dataframe tbody tr th {\n",
       "        vertical-align: top;\n",
       "    }\n",
       "\n",
       "    .dataframe thead th {\n",
       "        text-align: right;\n",
       "    }\n",
       "</style>\n",
       "<table border=\"1\" class=\"dataframe\">\n",
       "  <thead>\n",
       "    <tr style=\"text-align: right;\">\n",
       "      <th></th>\n",
       "      <th>Submissions</th>\n",
       "      <th>Last Updated</th>\n",
       "      <th>submitters_id</th>\n",
       "    </tr>\n",
       "    <tr>\n",
       "      <th>Gene</th>\n",
       "      <th></th>\n",
       "      <th></th>\n",
       "      <th></th>\n",
       "    </tr>\n",
       "  </thead>\n",
       "  <tbody>\n",
       "    <tr>\n",
       "      <th>ALK</th>\n",
       "      <td>1</td>\n",
       "      <td>1</td>\n",
       "      <td>1</td>\n",
       "    </tr>\n",
       "    <tr>\n",
       "      <th>ALX4</th>\n",
       "      <td>1</td>\n",
       "      <td>1</td>\n",
       "      <td>1</td>\n",
       "    </tr>\n",
       "    <tr>\n",
       "      <th>ARG1</th>\n",
       "      <td>1</td>\n",
       "      <td>1</td>\n",
       "      <td>1</td>\n",
       "    </tr>\n",
       "    <tr>\n",
       "      <th>ARSA</th>\n",
       "      <td>1</td>\n",
       "      <td>1</td>\n",
       "      <td>1</td>\n",
       "    </tr>\n",
       "    <tr>\n",
       "      <th>ARSB</th>\n",
       "      <td>1</td>\n",
       "      <td>1</td>\n",
       "      <td>1</td>\n",
       "    </tr>\n",
       "    <tr>\n",
       "      <th>...</th>\n",
       "      <td>...</td>\n",
       "      <td>...</td>\n",
       "      <td>...</td>\n",
       "    </tr>\n",
       "    <tr>\n",
       "      <th>VPS13A</th>\n",
       "      <td>1</td>\n",
       "      <td>1</td>\n",
       "      <td>1</td>\n",
       "    </tr>\n",
       "    <tr>\n",
       "      <th>WAS</th>\n",
       "      <td>1</td>\n",
       "      <td>1</td>\n",
       "      <td>1</td>\n",
       "    </tr>\n",
       "    <tr>\n",
       "      <th>WDR73</th>\n",
       "      <td>1</td>\n",
       "      <td>1</td>\n",
       "      <td>1</td>\n",
       "    </tr>\n",
       "    <tr>\n",
       "      <th>XPA</th>\n",
       "      <td>1</td>\n",
       "      <td>1</td>\n",
       "      <td>1</td>\n",
       "    </tr>\n",
       "    <tr>\n",
       "      <th>XPC</th>\n",
       "      <td>1</td>\n",
       "      <td>1</td>\n",
       "      <td>1</td>\n",
       "    </tr>\n",
       "  </tbody>\n",
       "</table>\n",
       "<p>81 rows × 3 columns</p>\n",
       "</div>"
      ],
      "text/plain": [
       "        Submissions  Last Updated  submitters_id\n",
       "Gene                                            \n",
       "ALK               1             1              1\n",
       "ALX4              1             1              1\n",
       "ARG1              1             1              1\n",
       "ARSA              1             1              1\n",
       "ARSB              1             1              1\n",
       "...             ...           ...            ...\n",
       "VPS13A            1             1              1\n",
       "WAS               1             1              1\n",
       "WDR73             1             1              1\n",
       "XPA               1             1              1\n",
       "XPC               1             1              1\n",
       "\n",
       "[81 rows x 3 columns]"
      ]
     },
     "execution_count": 39,
     "metadata": {},
     "output_type": "execute_result"
    }
   ],
   "source": [
    "genes.groupby('Gene').count()"
   ]
  },
  {
   "cell_type": "code",
   "execution_count": 10,
   "metadata": {},
   "outputs": [
    {
     "data": {
      "text/plain": [
       "(54, 3)"
      ]
     },
     "execution_count": 10,
     "metadata": {},
     "output_type": "execute_result"
    }
   ],
   "source": [
    "\n",
    "phenotypes.groupby('Name').count().shape"
   ]
  },
  {
   "cell_type": "code",
   "execution_count": null,
   "metadata": {},
   "outputs": [],
   "source": []
  },
  {
   "cell_type": "code",
   "execution_count": 15,
   "metadata": {},
   "outputs": [],
   "source": [
    "Africa_snp.to_csv(\"African_submitters.csv\", index=False)"
   ]
  },
  {
   "cell_type": "code",
   "execution_count": 18,
   "metadata": {},
   "outputs": [],
   "source": [
    "genes_africa = pd.read_csv(\"clinVar_genes_byAfricans.csv\")\n",
    "phenotypes  = pd.read_csv(\"clinVar_phenotypes_byAfricans.csv\")\n",
    "gene_Ids = pd.read_csv(\"gene_ids.csv\")"
   ]
  },
  {
   "cell_type": "code",
   "execution_count": 31,
   "metadata": {},
   "outputs": [],
   "source": [
    "new_table = pd.merge(left = genes_africa, right= gene_Ids, on=\"Gene\", how = \"left\" )"
   ]
  },
  {
   "cell_type": "code",
   "execution_count": 38,
   "metadata": {},
   "outputs": [],
   "source": [
    "S2 = pd.merge(left = new_table, right= phenotypes, on=[\"submitters_id\", \"Submissions\", \"Last Updated\"], how = \"left\" ).drop_duplicates()"
   ]
  },
  {
   "cell_type": "code",
   "execution_count": 39,
   "metadata": {},
   "outputs": [],
   "source": [
    "S2.to_csv(\"genes_phenotypes_by_subitter_id.csv\", index=False)"
   ]
  },
  {
   "cell_type": "code",
   "execution_count": 47,
   "metadata": {},
   "outputs": [],
   "source": [
    "\n",
    "p1 = ['SA45T', 'SA45I', 'SA45D', 'SA45N', 'SA45A', 'SA45Q','SA45E','SA45R']\n",
    "p2 = ['GA46A','GA46R', 'GA46Q', 'GA46S','GA46F', 'GA46T', 'GA46K', 'GA46D', 'GA46E']\n",
    "p3 = ['KA109R', 'KA109S', 'KA109T','KA109A','KA109D', 'KA109I', 'KA109G', 'KA109N']\n",
    "p4 = ['SA498L','SA498N', 'SA498A']\n",
    "p5 = ['KA213T']\n",
    "p6 = ['KA231N','KA231S', 'KA231E', 'KA231R', 'KA231Q']\n",
    "\n"
   ]
  },
  {
   "cell_type": "code",
   "execution_count": 45,
   "metadata": {},
   "outputs": [
    {
     "ename": "NameError",
     "evalue": "name 'iterable' is not defined",
     "output_type": "error",
     "traceback": [
      "\u001b[0;31m---------------------------------------------------------------------------\u001b[0m",
      "\u001b[0;31mNameError\u001b[0m                                 Traceback (most recent call last)",
      "\u001b[0;32m<ipython-input-45-a75c1b80a6f0>\u001b[0m in \u001b[0;36m<module>\u001b[0;34m\u001b[0m\n\u001b[1;32m      1\u001b[0m \u001b[0;32mimport\u001b[0m \u001b[0mitertools\u001b[0m \u001b[0;32mas\u001b[0m \u001b[0mit\u001b[0m\u001b[0;34m\u001b[0m\u001b[0;34m\u001b[0m\u001b[0m\n\u001b[0;32m----> 2\u001b[0;31m \u001b[0mit\u001b[0m\u001b[0;34m.\u001b[0m\u001b[0mcombinations\u001b[0m\u001b[0;34m(\u001b[0m\u001b[0miterable\u001b[0m\u001b[0;34m,\u001b[0m \u001b[0mp1\u001b[0m\u001b[0;34m)\u001b[0m\u001b[0;34m\u001b[0m\u001b[0;34m\u001b[0m\u001b[0m\n\u001b[0m",
      "\u001b[0;31mNameError\u001b[0m: name 'iterable' is not defined"
     ]
    }
   ],
   "source": [
    "import itertools as it\n",
    "it.combinations(iterable, p1)"
   ]
  },
  {
   "cell_type": "code",
   "execution_count": 50,
   "metadata": {},
   "outputs": [],
   "source": [
    "for i in it.product([tuple(p5)], it.permutations(p4)):\n",
    "    print(i)"
   ]
  },
  {
   "cell_type": "code",
   "execution_count": 52,
   "metadata": {},
   "outputs": [],
   "source": [
    "def funnyperms(first, *rest):\n",
    "    for i in it.product([first], *(it.permutations(j) for j in rest)):\n",
    "        yield tuple(zip(*i))\n",
    "\n",
    "for i in funnyperms(p1, p2):\n",
    "    print(i)"
   ]
  },
  {
   "cell_type": "code",
   "execution_count": 53,
   "metadata": {},
   "outputs": [
    {
     "data": {
      "text/plain": [
       "<generator object funnyperms at 0x7f8b31f89150>"
      ]
     },
     "execution_count": 53,
     "metadata": {},
     "output_type": "execute_result"
    }
   ],
   "source": [
    "funnyperms(p1, p2)"
   ]
  },
  {
   "cell_type": "code",
   "execution_count": null,
   "metadata": {},
   "outputs": [],
   "source": []
  }
 ],
 "metadata": {
  "kernelspec": {
   "display_name": "Python 3",
   "language": "python",
   "name": "python3"
  },
  "language_info": {
   "codemirror_mode": {
    "name": "ipython",
    "version": 3
   },
   "file_extension": ".py",
   "mimetype": "text/x-python",
   "name": "python",
   "nbconvert_exporter": "python",
   "pygments_lexer": "ipython3",
   "version": "3.7.6"
  }
 },
 "nbformat": 4,
 "nbformat_minor": 4
}

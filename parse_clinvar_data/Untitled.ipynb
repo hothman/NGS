{
 "cells": [
  {
   "cell_type": "markdown",
   "metadata": {},
   "source": [
    "## Parse the submitter table and convert to csv file"
   ]
  },
  {
   "cell_type": "code",
   "execution_count": 5,
   "metadata": {
    "scrolled": true
   },
   "outputs": [
    {
     "name": "stdout",
     "output_type": "stream",
     "text": [
      "[6, 6, 6, 6, 6, 6, 6, 6, 6, 6, 6, 6]\n",
      "1:\"Submitter\"\n",
      "2:\"Maximum review status\"\n",
      "3:\"Total submissions\"\n",
      "4:\"Submissions with interpretations\"\n",
      "5:\"Total Genes\"\n",
      "6:\"Last updated\"\n"
     ]
    }
   ],
   "source": [
    "%run parseSubmittersTable.py"
   ]
  },
  {
   "cell_type": "code",
   "execution_count": 7,
   "metadata": {},
   "outputs": [
    {
     "data": {
      "text/html": [
       "<div>\n",
       "<style scoped>\n",
       "    .dataframe tbody tr th:only-of-type {\n",
       "        vertical-align: middle;\n",
       "    }\n",
       "\n",
       "    .dataframe tbody tr th {\n",
       "        vertical-align: top;\n",
       "    }\n",
       "\n",
       "    .dataframe thead th {\n",
       "        text-align: right;\n",
       "    }\n",
       "</style>\n",
       "<table border=\"1\" class=\"dataframe\">\n",
       "  <thead>\n",
       "    <tr style=\"text-align: right;\">\n",
       "      <th></th>\n",
       "      <th>Submitter</th>\n",
       "      <th>Maximum review status</th>\n",
       "      <th>Total submissions</th>\n",
       "      <th>Submissions with interpretations</th>\n",
       "      <th>Total Genes</th>\n",
       "      <th>Last updated</th>\n",
       "    </tr>\n",
       "  </thead>\n",
       "  <tbody>\n",
       "    <tr>\n",
       "      <td>0</td>\n",
       "      <td>Invitae</td>\n",
       "      <td>Assertion criteria</td>\n",
       "      <td>392880</td>\n",
       "      <td>392877</td>\n",
       "      <td>12724</td>\n",
       "      <td>Feb 06, 2020</td>\n",
       "    </tr>\n",
       "    <tr>\n",
       "      <td>1</td>\n",
       "      <td>Illumina Clinical Services Laboratory; Illumina</td>\n",
       "      <td>Assertion criteria</td>\n",
       "      <td>208171</td>\n",
       "      <td>208171</td>\n",
       "      <td>2299</td>\n",
       "      <td>Jul 16, 2020</td>\n",
       "    </tr>\n",
       "    <tr>\n",
       "      <td>2</td>\n",
       "      <td>GeneDx</td>\n",
       "      <td>Assertion criteria</td>\n",
       "      <td>121891</td>\n",
       "      <td>121757</td>\n",
       "      <td>26667</td>\n",
       "      <td>Jul 27, 2020</td>\n",
       "    </tr>\n",
       "    <tr>\n",
       "      <td>3</td>\n",
       "      <td>Ambry Genetics</td>\n",
       "      <td>Assertion criteria</td>\n",
       "      <td>70620</td>\n",
       "      <td>70620</td>\n",
       "      <td>1339</td>\n",
       "      <td>Jul 28, 2020</td>\n",
       "    </tr>\n",
       "    <tr>\n",
       "      <td>4</td>\n",
       "      <td>EGL Genetic Diagnostics; Eurofins Clinical Dia...</td>\n",
       "      <td>Assertion criteria</td>\n",
       "      <td>45028</td>\n",
       "      <td>45028</td>\n",
       "      <td>2406</td>\n",
       "      <td>Sep 19, 2018</td>\n",
       "    </tr>\n",
       "  </tbody>\n",
       "</table>\n",
       "</div>"
      ],
      "text/plain": [
       "                                           Submitter Maximum review status  \\\n",
       "0                                            Invitae    Assertion criteria   \n",
       "1    Illumina Clinical Services Laboratory; Illumina    Assertion criteria   \n",
       "2                                             GeneDx    Assertion criteria   \n",
       "3                                     Ambry Genetics    Assertion criteria   \n",
       "4  EGL Genetic Diagnostics; Eurofins Clinical Dia...    Assertion criteria   \n",
       "\n",
       "   Total submissions  Submissions with interpretations Total Genes  \\\n",
       "0             392880                            392877       12724   \n",
       "1             208171                            208171        2299   \n",
       "2             121891                            121757       26667   \n",
       "3              70620                             70620        1339   \n",
       "4              45028                             45028        2406   \n",
       "\n",
       "   Last updated  \n",
       "0  Feb 06, 2020  \n",
       "1  Jul 16, 2020  \n",
       "2  Jul 27, 2020  \n",
       "3  Jul 28, 2020  \n",
       "4  Sep 19, 2018  "
      ]
     },
     "execution_count": 7,
     "metadata": {},
     "output_type": "execute_result"
    }
   ],
   "source": [
    "# convert data to \n",
    "Dict={title:column for (title,column) in col}\n",
    "submitters=pd.DataFrame(Dict)\n",
    "submitters.to_csv(\"Clinvar_submitters.csv\", index=False)\n",
    "submitters.head()"
   ]
  },
  {
   "cell_type": "markdown",
   "metadata": {},
   "source": [
    "## Parse sumitters own page \n",
    "First we read the HTML page that we want to parse. In this case it's the submitters table for clinvar."
   ]
  },
  {
   "cell_type": "code",
   "execution_count": 20,
   "metadata": {},
   "outputs": [],
   "source": [
    "from bs4 import BeautifulSoup\n",
    "from urllib.request import urlopen\n",
    "html = urlopen(url) \n",
    "soup = BeautifulSoup(html, 'html')\n",
    "# prettify is used to correct elements in html page\n",
    "fixed_html = soup.prettify() "
   ]
  },
  {
   "cell_type": "code",
   "execution_count": 34,
   "metadata": {},
   "outputs": [],
   "source": [
    "links = soup.find('table')"
   ]
  },
  {
   "cell_type": "code",
   "execution_count": 47,
   "metadata": {},
   "outputs": [],
   "source": [
    "submitters_id = []\n",
    "for link in links.find_all('a'): \n",
    "    path = link.get('href')\n",
    "    submitters_id.append(path.split('/')[3])\n",
    "\n",
    "# append the submitters id to a dataframe \n",
    "submitters['submitters_id'] = submitters_id"
   ]
  },
  {
   "cell_type": "markdown",
   "metadata": {},
   "source": [
    "## Parse each submitter's page"
   ]
  },
  {
   "cell_type": "code",
   "execution_count": 49,
   "metadata": {},
   "outputs": [],
   "source": [
    "base_url = \"https://www.ncbi.nlm.nih.gov/clinvar/submitters/\""
   ]
  },
  {
   "cell_type": "code",
   "execution_count": 54,
   "metadata": {},
   "outputs": [
    {
     "name": "stdout",
     "output_type": "stream",
     "text": [
      "https://www.ncbi.nlm.nih.gov/clinvar/submitters/500031/\n"
     ]
    }
   ],
   "source": [
    "url_submitter = base_url+\"500031\"+\"/\"\n",
    "print(url_submitter)"
   ]
  },
  {
   "cell_type": "code",
   "execution_count": 56,
   "metadata": {},
   "outputs": [],
   "source": [
    "html = urlopen(url_submitter) \n",
    "soup = BeautifulSoup(html, 'html')"
   ]
  },
  {
   "cell_type": "code",
   "execution_count": 68,
   "metadata": {},
   "outputs": [],
   "source": [
    "mysoup= soup.find_all('div', attrs={'class':'col four_col'})"
   ]
  },
  {
   "cell_type": "code",
   "execution_count": 63,
   "metadata": {},
   "outputs": [
    {
     "data": {
      "text/plain": [
       "False"
      ]
     },
     "execution_count": 63,
     "metadata": {},
     "output_type": "execute_result"
    }
   ],
   "source": [
    "\"United States\" in mysoup"
   ]
  },
  {
   "cell_type": "code",
   "execution_count": 73,
   "metadata": {},
   "outputs": [
    {
     "data": {
      "text/plain": [
       "<bound method Tag.get_text of <div class=\"col four_col\"><div class=\"indented\"><h3>General information</h3><div class=\"indented\">Invitae<br/><br/>1400 16th Street<br/>San Francisco<br/>California<br/>United States - 94103<br/><a href=\"https://www.invitae.com/\">https://www.invitae.com/</a><br/>Organization ID: 500031</div></div><div class=\"box\"><h3>Personnel</h3><div class=\"lab_box_bd\"><ul class=\"li_magin_t1 personal_list\"><li>Michele Cargill<br/></li><li>John Garcia, Coordinator<br/>Phone: 800-436-3037<br/>Email: <a href=\"mailto:john.garcia@invitae.com\" target=\"_blank\">john.garcia@invitae.com</a></li></ul></div></div><p><a href=\"/gtr/labs/500031/\" ref=\"link_area=view&amp;db=clinvar&amp;ncbi_uid=500031&amp;linksrc=single_submitter&amp;db_to=gtr&amp;from_uid=500031&amp;to_uid=500031\" target=\"_blank\" title=\"Link to Invitae submitter (lab) in GTR\">\n",
       "                    View this laboratory in GTR\n",
       "                </a></p><h3>Assertion criteria</h3><p>Level: Assertion criteria provided</p><ul class=\"noindent\"><li><a href=\"https://www.ncbi.nlm.nih.gov/pubmed/28492532\" target=\"_blank\">Invitae Variant Classification Sherloc (09022015)</a></li><li><a href=\"https://www.ncbi.nlm.nih.gov/pubmed/28492532\" target=\"_blank\">Nykamp K et al. (Genet Med 2017)</a></li></ul></div>>"
      ]
     },
     "execution_count": 73,
     "metadata": {},
     "output_type": "execute_result"
    }
   ],
   "source": [
    "mysoup[0].get_text"
   ]
  },
  {
   "cell_type": "code",
   "execution_count": null,
   "metadata": {},
   "outputs": [],
   "source": []
  }
 ],
 "metadata": {
  "kernelspec": {
   "display_name": "Python 3",
   "language": "python",
   "name": "python3"
  },
  "language_info": {
   "codemirror_mode": {
    "name": "ipython",
    "version": 3
   },
   "file_extension": ".py",
   "mimetype": "text/x-python",
   "name": "python",
   "nbconvert_exporter": "python",
   "pygments_lexer": "ipython3",
   "version": "3.7.6"
  }
 },
 "nbformat": 4,
 "nbformat_minor": 2
}

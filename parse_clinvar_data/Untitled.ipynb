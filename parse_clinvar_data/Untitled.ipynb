{
 "cells": [
  {
   "cell_type": "markdown",
   "metadata": {},
   "source": [
    "## Parse the submitter table and convert to csv file"
   ]
  },
  {
   "cell_type": "code",
   "execution_count": 7,
   "metadata": {
    "scrolled": true
   },
   "outputs": [
    {
     "name": "stdout",
     "output_type": "stream",
     "text": [
      "[6, 6, 6, 6, 6, 6, 6, 6, 6, 6, 6, 6]\n",
      "1:\"Submitter\"\n",
      "2:\"Maximum review status\"\n",
      "3:\"Total submissions\"\n",
      "4:\"Submissions with interpretations\"\n",
      "5:\"Total Genes\"\n",
      "6:\"Last updated\"\n"
     ]
    }
   ],
   "source": [
    "%run parseSubmittersTable.py"
   ]
  },
  {
   "cell_type": "code",
   "execution_count": 12,
   "metadata": {},
   "outputs": [
    {
     "data": {
      "text/html": [
       "<div>\n",
       "<style scoped>\n",
       "    .dataframe tbody tr th:only-of-type {\n",
       "        vertical-align: middle;\n",
       "    }\n",
       "\n",
       "    .dataframe tbody tr th {\n",
       "        vertical-align: top;\n",
       "    }\n",
       "\n",
       "    .dataframe thead th {\n",
       "        text-align: right;\n",
       "    }\n",
       "</style>\n",
       "<table border=\"1\" class=\"dataframe\">\n",
       "  <thead>\n",
       "    <tr style=\"text-align: right;\">\n",
       "      <th></th>\n",
       "      <th>Submitter</th>\n",
       "      <th>Maximum review status</th>\n",
       "      <th>Total submissions</th>\n",
       "      <th>Submissions with interpretations</th>\n",
       "      <th>Total Genes</th>\n",
       "      <th>Last updated</th>\n",
       "    </tr>\n",
       "  </thead>\n",
       "  <tbody>\n",
       "    <tr>\n",
       "      <td>0</td>\n",
       "      <td>Invitae</td>\n",
       "      <td>Assertion criteria</td>\n",
       "      <td>392880</td>\n",
       "      <td>392877</td>\n",
       "      <td>12724</td>\n",
       "      <td>Feb 06, 2020</td>\n",
       "    </tr>\n",
       "    <tr>\n",
       "      <td>1</td>\n",
       "      <td>Illumina Clinical Services Laboratory; Illumina</td>\n",
       "      <td>Assertion criteria</td>\n",
       "      <td>208171</td>\n",
       "      <td>208171</td>\n",
       "      <td>2299</td>\n",
       "      <td>Jul 16, 2020</td>\n",
       "    </tr>\n",
       "    <tr>\n",
       "      <td>2</td>\n",
       "      <td>GeneDx</td>\n",
       "      <td>Assertion criteria</td>\n",
       "      <td>121891</td>\n",
       "      <td>121757</td>\n",
       "      <td>26667</td>\n",
       "      <td>Jul 27, 2020</td>\n",
       "    </tr>\n",
       "    <tr>\n",
       "      <td>3</td>\n",
       "      <td>Ambry Genetics</td>\n",
       "      <td>Assertion criteria</td>\n",
       "      <td>70620</td>\n",
       "      <td>70620</td>\n",
       "      <td>1339</td>\n",
       "      <td>Jul 28, 2020</td>\n",
       "    </tr>\n",
       "    <tr>\n",
       "      <td>4</td>\n",
       "      <td>EGL Genetic Diagnostics; Eurofins Clinical Dia...</td>\n",
       "      <td>Assertion criteria</td>\n",
       "      <td>45028</td>\n",
       "      <td>45028</td>\n",
       "      <td>2406</td>\n",
       "      <td>Sep 19, 2018</td>\n",
       "    </tr>\n",
       "  </tbody>\n",
       "</table>\n",
       "</div>"
      ],
      "text/plain": [
       "                                           Submitter Maximum review status  \\\n",
       "0                                            Invitae    Assertion criteria   \n",
       "1    Illumina Clinical Services Laboratory; Illumina    Assertion criteria   \n",
       "2                                             GeneDx    Assertion criteria   \n",
       "3                                     Ambry Genetics    Assertion criteria   \n",
       "4  EGL Genetic Diagnostics; Eurofins Clinical Dia...    Assertion criteria   \n",
       "\n",
       "   Total submissions  Submissions with interpretations Total Genes  \\\n",
       "0             392880                            392877       12724   \n",
       "1             208171                            208171        2299   \n",
       "2             121891                            121757       26667   \n",
       "3              70620                             70620        1339   \n",
       "4              45028                             45028        2406   \n",
       "\n",
       "   Last updated  \n",
       "0  Feb 06, 2020  \n",
       "1  Jul 16, 2020  \n",
       "2  Jul 27, 2020  \n",
       "3  Jul 28, 2020  \n",
       "4  Sep 19, 2018  "
      ]
     },
     "execution_count": 12,
     "metadata": {},
     "output_type": "execute_result"
    }
   ],
   "source": [
    "# convert data to \n",
    "Dict={title:column for (title,column) in col}\n",
    "submitters=pd.DataFrame(Dict)\n",
    "submitters.to_csv(\"Clinvar_submitters.csv\", index=False)\n",
    "df.head()"
   ]
  },
  {
   "cell_type": "markdown",
   "metadata": {},
   "source": [
    "## Parse sumitters own page "
   ]
  },
  {
   "cell_type": "code",
   "execution_count": null,
   "metadata": {},
   "outputs": [],
   "source": []
  },
  {
   "cell_type": "code",
   "execution_count": null,
   "metadata": {},
   "outputs": [],
   "source": []
  }
 ],
 "metadata": {
  "kernelspec": {
   "display_name": "Python 3",
   "language": "python",
   "name": "python3"
  },
  "language_info": {
   "codemirror_mode": {
    "name": "ipython",
    "version": 3
   },
   "file_extension": ".py",
   "mimetype": "text/x-python",
   "name": "python",
   "nbconvert_exporter": "python",
   "pygments_lexer": "ipython3",
   "version": "3.7.6"
  }
 },
 "nbformat": 4,
 "nbformat_minor": 2
}
